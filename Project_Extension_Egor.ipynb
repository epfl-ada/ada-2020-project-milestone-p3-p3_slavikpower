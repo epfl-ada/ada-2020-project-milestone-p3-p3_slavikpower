{
 "cells": [
  {
   "cell_type": "code",
   "execution_count": 1,
   "metadata": {},
   "outputs": [],
   "source": [
    "#%matplotlib\n",
    "import pandas as pd\n",
    "import matplotlib.pyplot as plt\n",
    "import numpy as np\n",
    "import seaborn as sns  # needed for heatmap\n",
    "from os.path import join\n",
    "from sklearn.linear_model import LinearRegression\n",
    "from sklearn.model_selection import train_test_split\n",
    "import statsmodels.formula.api as smf\n",
    "plt.rcParams['figure.figsize'] = [7, 5]"
   ]
  },
  {
   "cell_type": "code",
   "execution_count": 2,
   "metadata": {},
   "outputs": [],
   "source": [
    "# define paths for data\n",
    "FOLDER_PATH = 'data'\n",
    "PURCHASES_PATH = 'area_level_purchases'\n",
    "OSWARD_GROCERY = 'year_osward_grocery.csv'\n",
    "WARD_ATLAS = 'ward-atlas-data.csv'\n",
    "\n",
    "ward_data_path = join(FOLDER_PATH, PURCHASES_PATH, OSWARD_GROCERY)\n",
    "atlas_data_path = join(FOLDER_PATH, WARD_ATLAS)\n",
    "\n",
    "# load the data sets\n",
    "df_ward = pd.read_csv(ward_data_path, sep=',', index_col=0)\n",
    "df_atlas = pd.read_csv(atlas_data_path, sep=',', encoding='iso-8859-1')"
   ]
  },
  {
   "cell_type": "markdown",
   "metadata": {},
   "source": [
    "# Preprocessing"
   ]
  },
  {
   "cell_type": "code",
   "execution_count": 3,
   "metadata": {},
   "outputs": [],
   "source": [
    "def drop_redundant_data(df_atlas):\n",
    "    # clean age (columns after 2013 are projections, therefore keep 2013 columns)\n",
    "    cond = df_atlas.columns.str.startswith('Population and Age') & ~df_atlas.columns.str.contains('2013')\n",
    "    df_atlas = df_atlas.loc[:, ~cond]\n",
    "    # drop absolute population values\n",
    "    df_atlas = df_atlas.drop(['Population and Age; Population Estimates and Projections; 2013',\n",
    "                   'Population and Age; Aged 0-15; 2013',\n",
    "                   'Population and Age; Aged 16-64; 2013',\n",
    "                   'Population and Age; Aged 65+; 2013',\n",
    "                   'Population and Age; All ages; 2013',\n",
    "                   'Population and Age; Mean age; 2013',\n",
    "                   'Population and Age; Median age; 2013'], axis=1)\n",
    "    # delete population density\n",
    "    cond = df_atlas.columns.str.startswith('Area and Density')\n",
    "    df_atlas = df_atlas.loc[:, ~cond]\n",
    "    # delete the 18 ethnic groups for now, as they add complexity\n",
    "    cond = df_atlas.columns.str.startswith('Diversity; Ethnic Group 18 groups')\n",
    "    df_atlas = df_atlas.loc[:, ~cond]\n",
    "    # delete household language (of no interest) \n",
    "    cond = df_atlas.columns.str.startswith('Diversity; Household Language - 2011 Census')\n",
    "    df_atlas = df_atlas.loc[:, ~cond]\n",
    "    # delete household composition data\n",
    "    cond = df_atlas.columns.str.startswith('Household composition')\n",
    "    df_atlas = df_atlas.loc[:, ~cond]\n",
    "    # delete household repossesion\n",
    "    cond = df_atlas.columns.str.startswith('Home repossessions')\n",
    "    df_atlas = df_atlas.loc[:, ~cond]\n",
    "    # delete outdated birth and death markers\n",
    "    cond = df_atlas.columns.str.startswith('Births and deaths')\n",
    "    df_atlas = df_atlas.loc[:, ~cond]\n",
    "    # delete outdated life expectancy\n",
    "    cond = df_atlas.columns.str.startswith('Life Expectancy')\n",
    "    df_atlas = df_atlas.loc[:, ~cond]\n",
    "    # delete outdated housing markers\n",
    "    cond = df_atlas.columns.str.startswith('Housing type and Tenure')\n",
    "    df_atlas = df_atlas.loc[:, ~cond]\n",
    "    cond = df_atlas.columns.str.startswith('House Prices')\n",
    "    df_atlas = df_atlas.loc[:, ~cond]\n",
    "    # delete tax related data (not of interest)\n",
    "    cond = df_atlas.columns.str.startswith('Dwellings and Council tax')\n",
    "    df_atlas = df_atlas.loc[:, ~cond]\n",
    "    # delete dwelling data which is not of interest\n",
    "    cond = df_atlas.columns.str.startswith('Property Type') | df_atlas.columns.str.startswith('Size of dwellings') | df_atlas.columns.str.startswith('Property build period')\n",
    "    df_atlas = df_atlas.loc[:, ~cond]\n",
    "    # delete outdated income data\n",
    "    cond = df_atlas.columns.str.startswith('Household Income') & ~df_atlas.columns.str.contains('2012/13')\n",
    "    df_atlas = df_atlas.loc[:, ~cond]\n",
    "    # outdated employment data\n",
    "    cond = df_atlas.columns.str.startswith('Employment')\n",
    "    df_atlas = df_atlas.loc[:, ~cond]\n",
    "    # delete benefits claimants and jobseekers allowance\n",
    "    cond = df_atlas.columns.str.startswith('Benefits claimants') | df_atlas.columns.str.startswith('Jobseekers Allowance')\n",
    "    df_atlas = df_atlas.loc[:, ~cond]\n",
    "    # delete out of work families\n",
    "    cond = df_atlas.columns.str.startswith('Out-of-Work Families')\n",
    "    df_atlas = df_atlas.loc[:, ~cond]\n",
    "    # outdated poverty\n",
    "    cond = df_atlas.columns.str.startswith('Children in Poverty')\n",
    "    df_atlas = df_atlas.loc[:, ~cond]\n",
    "    # outdated \"intelligence\" scores\n",
    "    cond = df_atlas.columns.str.startswith('GCSE')\n",
    "    df_atlas = df_atlas.loc[:, ~cond]\n",
    "    cond = df_atlas.columns.str.startswith('A-Level Point Scores')\n",
    "    df_atlas = df_atlas.loc[:, ~cond]\n",
    "    # pupil abscence not if interest\n",
    "    cond = df_atlas.columns.str.startswith('Pupil Absence')\n",
    "    df_atlas = df_atlas.loc[:, ~cond]\n",
    "    # individual crimes not of interest, only crime rate\n",
    "    cond = df_atlas.columns.str.startswith('Crime') # & ~df_atlas.columns.str.contains('Total crime rate; 2014/15')\n",
    "    df_atlas = df_atlas.loc[:, ~cond]\n",
    "    # further columns not of interest\n",
    "    cond = df_atlas.columns.str.startswith('Fires') | df_atlas.columns.str.startswith('Ambulance') \\\n",
    "    | df_atlas.columns.str.startswith('Binge Drinking') | df_atlas.columns.str.startswith('Road Casualties') \\\n",
    "    | df_atlas.columns.str.startswith('Air Emissions') | df_atlas.columns.str.startswith('Land Use') \\\n",
    "    | df_atlas.columns.str.startswith('Access to green space and nature') | df_atlas.columns.str.startswith('Public Transport Accessibility')\\\n",
    "    | df_atlas.columns.str.startswith('Car access') | df_atlas.columns.str.startswith('Travel to work by bicycle') \\\n",
    "    | df_atlas.columns.str.startswith('Workplace employment') | df_atlas.columns.str.startswith('Nat Insurance No. registrations') \\\n",
    "    | df_atlas.columns.str.startswith('Election turnout')\n",
    "    df_atlas = df_atlas.loc[:, ~cond]\n",
    "    # obesity already available in cleaned format\n",
    "    cond = df_atlas.columns.str.startswith('Childhood Obesity Prevalence')\n",
    "    df_atlas = df_atlas.loc[:, ~cond]\n",
    "    # delete old indices of deprivation\n",
    "    cond = df_atlas.columns.str.startswith('Indices of Deprivation') & ~df_atlas.columns.str.contains('2010')\n",
    "    df_atlas = df_atlas.loc[:, ~cond]\n",
    "    cond = df_atlas.columns.str.startswith('Indices of Deprivation') & ~df_atlas.columns.str.endswith('Average Score; 2010')\n",
    "    df_atlas = df_atlas.loc[:, ~cond]\n",
    "    \n",
    "    df_atlas.drop('Unnamed: 0', axis=1, inplace=True)\n",
    "    df_atlas.drop(df_atlas.index[-3:], inplace=True)\n",
    "    df_atlas.drop(df_atlas.index[0], inplace=True)\n",
    "    return df_atlas\n",
    "\n",
    "df_atlas = drop_redundant_data(df_atlas)"
   ]
  },
  {
   "cell_type": "code",
   "execution_count": 4,
   "metadata": {},
   "outputs": [],
   "source": [
    "# The first 4 columns seem to have a wrong name\n",
    "df_atlas.rename(columns={'Unnamed: 1': 'New Code', 'Unnamed: 2': 'Borough', \n",
    "                         'Unnamed: 3': 'Names'}, inplace=True)\n",
    "\n",
    "# very long column names, rename columns to more concise names\n",
    "import re\n",
    "rename_map = {name: re.sub('.*; ', '', name) for name in df_atlas.columns.values}\n",
    "# after inspection 'Household Income; Median Modelled Household income (£); 2012/13',\n",
    "# 'Household Income; Mean Modelled Household income (£); 2012/13',\n",
    "# 'Happiness and Well-being; Subjective well-being average score, 2011/12 and 2012/13; ',\n",
    "# and 'Indices of Deprivation; Average Score; 2010' have been replaced too much, manually add those column names\n",
    "rename_map['Household Income; Median Modelled Household income (£); 2012/13'] = 'Household Income Mean'\n",
    "rename_map['Household Income; Mean Modelled Household income (£); 2012/13'] = 'Household Income Median'\n",
    "rename_map['Happiness and Well-being; Subjective well-being average score, 2011/12 and 2012/13; '] = 'Well-Being'\n",
    "rename_map['Indices of Deprivation; Average Score; 2010'] = 'IOD AVG'\n",
    "df_atlas.rename(columns=rename_map, inplace=True)\n",
    "                         \n",
    "df_atlas.rename(columns={'% No qualifications': 'No qualifications', \n",
    "                         '% Highest level of qualification: Level 1 qualifications': 'Level 1 qualifications', \n",
    "                         '% Highest level of qualification: Level 2 qualifications': 'Level 2 qualifications', \n",
    "                         '% Highest level of qualification: Apprenticeship': 'Apprenticeship qualifications', \n",
    "                         '% Highest level of qualification: Level 3 qualifications': 'Level 3 qualifications', \n",
    "                         '% Highest level of qualification: Level 4 qualifications and above': 'Level >=4 qualifications',\n",
    "                         '% Highest level of qualification: Other qualifications': 'Other qualifications', \n",
    "                         '% People with Bad or Very Bad Health': 'Bad Health',\n",
    "                         '% People whose Day-to-day activities are limited a lot': 'Limited activities'},\n",
    "                inplace=True)"
   ]
  },
  {
   "cell_type": "code",
   "execution_count": 5,
   "metadata": {},
   "outputs": [],
   "source": [
    "# to numeric conversion\n",
    "df_atlas.loc[:, 'Aged 0-15':] = df_atlas.loc[:, 'Aged 0-15':].apply(pd.to_numeric, errors='coerce')"
   ]
  },
  {
   "cell_type": "code",
   "execution_count": 6,
   "metadata": {},
   "outputs": [],
   "source": [
    "age_cols = ['Aged 0-15', 'Aged 16-64', 'Aged 65+'] #sum to 1\n",
    "ethnicities_cols = ['White', 'Mixed', 'Asian or Asian British', 'Black or Black British', 'Other'] #sum to 1\n",
    "religion_cols = ['Christian', 'Buddhist', 'Hindu', 'Jewish', 'Muslim', 'Sikh',\n",
    "       'No religion', 'Other religions', 'Religion not stated'] # sum to 1\n",
    "born_cols = ['Born in UK', 'Not Born in UK'] # sum to 1\n",
    "wealth_cols = ['Household Income Median', 'IOD AVG'] #'Well-Being'\n",
    "qualilication_cols = ['No qualifications', 'Level 1 qualifications', 'Level 2 qualifications',\n",
    "       'Apprenticeship qualifications', 'Level 3 qualifications',\n",
    "       'Level >=4 qualifications', 'Other qualifications'] # sum to 1 \n",
    "disability_cols = ['Bad Health', 'Limited activities']\n",
    "all_features = age_cols + ethnicities_cols + religion_cols + born_cols + wealth_cols + qualilication_cols + disability_cols"
   ]
  },
  {
   "cell_type": "code",
   "execution_count": 8,
   "metadata": {},
   "outputs": [],
   "source": [
    "def normalize(df, cols):\n",
    "    total = df[cols].sum(axis=1)\n",
    "    df[cols] = df[cols].div(total, axis=0)\n",
    "    return df\n",
    "\n",
    "def standartize(df, cols):\n",
    "    means = df[cols].mean()\n",
    "    stds = df[cols].std()\n",
    "    df[cols] = (df[cols] - means) / stds\n",
    "    return df\n",
    "\n",
    "def min_max_scaling(df, cols):\n",
    "    mins = df[cols].min()\n",
    "    maxs = df[cols].max()\n",
    "    df[cols] = (df[cols] - mins) / (maxs - mins)\n",
    "    return df"
   ]
  },
  {
   "cell_type": "code",
   "execution_count": 9,
   "metadata": {},
   "outputs": [],
   "source": [
    "#normalize\n",
    "df_atlas[age_cols] /= 100\n",
    "df_atlas = normalize(df_atlas, ethnicities_cols)\n",
    "df_atlas = normalize(df_atlas, religion_cols)\n",
    "df_atlas = normalize(df_atlas, born_cols)\n",
    "df_atlas[qualilication_cols] /= 100"
   ]
  },
  {
   "cell_type": "code",
   "execution_count": 10,
   "metadata": {},
   "outputs": [],
   "source": [
    "df_atlas['Household Income Median'] = df_atlas['Household Income Median'].apply(np.log)\n",
    "df_atlas = standartize(df_atlas, wealth_cols)"
   ]
  },
  {
   "cell_type": "code",
   "execution_count": 11,
   "metadata": {},
   "outputs": [],
   "source": [
    "df_atlas = standartize(df_atlas, disability_cols)"
   ]
  },
  {
   "cell_type": "code",
   "execution_count": 12,
   "metadata": {},
   "outputs": [],
   "source": [
    "important_cols = ['weight', 'volume', 'fat', 'saturate', 'salt', 'sugar', 'protein', 'carb',\n",
    "                 'fibre', 'alcohol', 'energy_fat', 'energy_saturate', 'energy_sugar', 'energy_protein',\n",
    "                 'energy_carb', 'energy_fibre', 'energy_alcohol', 'energy_tot', 'f_energy_fat', 'f_energy_saturate', \n",
    "                 'f_energy_sugar', 'f_energy_protein', 'f_energy_carb', 'f_energy_fibre', 'f_energy_alcohol', \n",
    "                 'energy_density', 'h_nutrients_weight', 'h_nutrients_weight_norm', 'h_nutrients_calories',\n",
    "                  'h_nutrients_calories_norm', 'representativeness_norm']"
   ]
  },
  {
   "cell_type": "code",
   "execution_count": 13,
   "metadata": {},
   "outputs": [],
   "source": [
    "df_atlas.set_index('New Code', drop=True, inplace=True)"
   ]
  },
  {
   "cell_type": "code",
   "execution_count": null,
   "metadata": {},
   "outputs": [],
   "source": [
    "# merge the data sets by ward\n",
    "df_ward_atlas = pd.merge(df_ward[important_cols], df_atlas, how='inner', left_index=True, right_index=True, validate='1:1')"
   ]
  },
  {
   "cell_type": "code",
   "execution_count": 15,
   "metadata": {},
   "outputs": [
    {
     "data": {
      "text/html": [
       "<div>\n",
       "<style scoped>\n",
       "    .dataframe tbody tr th:only-of-type {\n",
       "        vertical-align: middle;\n",
       "    }\n",
       "\n",
       "    .dataframe tbody tr th {\n",
       "        vertical-align: top;\n",
       "    }\n",
       "\n",
       "    .dataframe thead th {\n",
       "        text-align: right;\n",
       "    }\n",
       "</style>\n",
       "<table border=\"1\" class=\"dataframe\">\n",
       "  <thead>\n",
       "    <tr style=\"text-align: right;\">\n",
       "      <th></th>\n",
       "      <th>weight</th>\n",
       "      <th>volume</th>\n",
       "      <th>fat</th>\n",
       "      <th>saturate</th>\n",
       "      <th>salt</th>\n",
       "      <th>sugar</th>\n",
       "      <th>protein</th>\n",
       "      <th>carb</th>\n",
       "      <th>fibre</th>\n",
       "      <th>alcohol</th>\n",
       "      <th>...</th>\n",
       "      <th>Level 2 qualifications</th>\n",
       "      <th>Apprenticeship qualifications</th>\n",
       "      <th>Level 3 qualifications</th>\n",
       "      <th>Level &gt;=4 qualifications</th>\n",
       "      <th>Other qualifications</th>\n",
       "      <th>% of 16+ who are schoolchildren and full-time students: Age 18 and over</th>\n",
       "      <th>Bad Health</th>\n",
       "      <th>Limited activities</th>\n",
       "      <th>Well-Being</th>\n",
       "      <th>IOD AVG</th>\n",
       "    </tr>\n",
       "  </thead>\n",
       "  <tbody>\n",
       "    <tr>\n",
       "      <th>E05000026</th>\n",
       "      <td>449.535137</td>\n",
       "      <td>125.960833</td>\n",
       "      <td>9.488797</td>\n",
       "      <td>3.693721</td>\n",
       "      <td>0.58324</td>\n",
       "      <td>10.966213</td>\n",
       "      <td>4.97756</td>\n",
       "      <td>19.381951</td>\n",
       "      <td>1.564721</td>\n",
       "      <td>0.198172</td>\n",
       "      <td>...</td>\n",
       "      <td>0.115</td>\n",
       "      <td>0.011</td>\n",
       "      <td>0.085</td>\n",
       "      <td>0.345</td>\n",
       "      <td>0.167</td>\n",
       "      <td>14.3</td>\n",
       "      <td>-0.492858</td>\n",
       "      <td>-1.121216</td>\n",
       "      <td>7.897959</td>\n",
       "      <td>0.694138</td>\n",
       "    </tr>\n",
       "  </tbody>\n",
       "</table>\n",
       "<p>1 rows × 66 columns</p>\n",
       "</div>"
      ],
      "text/plain": [
       "               weight      volume       fat  saturate     salt      sugar  \\\n",
       "E05000026  449.535137  125.960833  9.488797  3.693721  0.58324  10.966213   \n",
       "\n",
       "           protein       carb     fibre   alcohol  ...  \\\n",
       "E05000026  4.97756  19.381951  1.564721  0.198172  ...   \n",
       "\n",
       "           Level 2 qualifications  Apprenticeship qualifications  \\\n",
       "E05000026                   0.115                          0.011   \n",
       "\n",
       "           Level 3 qualifications  Level >=4 qualifications  \\\n",
       "E05000026                   0.085                     0.345   \n",
       "\n",
       "           Other qualifications  \\\n",
       "E05000026                 0.167   \n",
       "\n",
       "           % of 16+ who are schoolchildren and full-time students: Age 18 and over  \\\n",
       "E05000026                                               14.3                         \n",
       "\n",
       "           Bad Health  Limited activities  Well-Being   IOD AVG  \n",
       "E05000026   -0.492858           -1.121216    7.897959  0.694138  \n",
       "\n",
       "[1 rows x 66 columns]"
      ]
     },
     "execution_count": 15,
     "metadata": {},
     "output_type": "execute_result"
    }
   ],
   "source": [
    "df_ward_atlas.head(1)"
   ]
  },
  {
   "cell_type": "code",
   "execution_count": 16,
   "metadata": {},
   "outputs": [],
   "source": [
    "target_cols = ['energy_fat', 'energy_saturate', 'energy_sugar', 'energy_protein',\n",
    "                 'energy_carb', 'energy_fibre', 'energy_alcohol', 'energy_tot']"
   ]
  },
  {
   "cell_type": "markdown",
   "metadata": {},
   "source": [
    "# Separate predictions"
   ]
  },
  {
   "cell_type": "code",
   "execution_count": 27,
   "metadata": {},
   "outputs": [],
   "source": [
    "from sklearn.metrics import r2_score\n",
    "\n",
    "from sklearn.multioutput import MultiOutputRegressor\n",
    "from sklearn.ensemble import GradientBoostingRegressor\n",
    "\n",
    "from sklearn.linear_model import LinearRegression\n",
    "\n",
    "def Train_model(Model,x_data,y_data):\n",
    "    X_train, X_test, y_train, y_test = train_test_split(\n",
    "        x_data, y_data, test_size = 0.2)\n",
    "    Model.fit(X_train,y_train)\n",
    "    y_pred=Model.predict(X_test)\n",
    "    return Model,r2_score(y_test,y_pred)"
   ]
  },
  {
   "cell_type": "code",
   "execution_count": 28,
   "metadata": {},
   "outputs": [],
   "source": [
    "x_data = df_ward_atlas[all_features]\n",
    "y_data = df_ward_atlas[target_cols]\n",
    "X_train, X_test, y_train, y_test = train_test_split(x_data, y_data, test_size = 0.2)"
   ]
  },
  {
   "cell_type": "markdown",
   "metadata": {},
   "source": [
    "## Linear regression"
   ]
  },
  {
   "cell_type": "code",
   "execution_count": 29,
   "metadata": {},
   "outputs": [
    {
     "data": {
      "text/html": [
       "<div>\n",
       "<style scoped>\n",
       "    .dataframe tbody tr th:only-of-type {\n",
       "        vertical-align: middle;\n",
       "    }\n",
       "\n",
       "    .dataframe tbody tr th {\n",
       "        vertical-align: top;\n",
       "    }\n",
       "\n",
       "    .dataframe thead th {\n",
       "        text-align: right;\n",
       "    }\n",
       "</style>\n",
       "<table border=\"1\" class=\"dataframe\">\n",
       "  <thead>\n",
       "    <tr style=\"text-align: right;\">\n",
       "      <th></th>\n",
       "      <th>energy_fat</th>\n",
       "      <th>energy_saturate</th>\n",
       "      <th>energy_sugar</th>\n",
       "      <th>energy_protein</th>\n",
       "      <th>energy_carb</th>\n",
       "      <th>energy_fibre</th>\n",
       "      <th>energy_alcohol</th>\n",
       "      <th>energy_tot</th>\n",
       "    </tr>\n",
       "  </thead>\n",
       "  <tbody>\n",
       "    <tr>\n",
       "      <th>Linear Regression R^2</th>\n",
       "      <td>0.23636</td>\n",
       "      <td>0.24976</td>\n",
       "      <td>0.403996</td>\n",
       "      <td>0.605033</td>\n",
       "      <td>0.657281</td>\n",
       "      <td>0.593942</td>\n",
       "      <td>0.307523</td>\n",
       "      <td>0.675526</td>\n",
       "    </tr>\n",
       "  </tbody>\n",
       "</table>\n",
       "</div>"
      ],
      "text/plain": [
       "                       energy_fat  energy_saturate  energy_sugar  \\\n",
       "Linear Regression R^2     0.23636          0.24976      0.403996   \n",
       "\n",
       "                       energy_protein  energy_carb  energy_fibre  \\\n",
       "Linear Regression R^2        0.605033     0.657281      0.593942   \n",
       "\n",
       "                       energy_alcohol  energy_tot  \n",
       "Linear Regression R^2        0.307523    0.675526  "
      ]
     },
     "execution_count": 29,
     "metadata": {},
     "output_type": "execute_result"
    }
   ],
   "source": [
    "Linear_models={}\n",
    "Linear_scores=[]\n",
    "df_Scores=pd.DataFrame(columns=y_data.columns.values)\n",
    "\n",
    "for i,column in enumerate(y_data.columns.values):\n",
    "    Model,R_2=Train_model(LinearRegression(),x_data,y_data[column])\n",
    "    Linear_models[column]=Model\n",
    "    Linear_scores.append(R_2)\n",
    "\n",
    "df_Scores.loc['Linear Regression R^2']=Linear_scores\n",
    "df_Scores"
   ]
  },
  {
   "cell_type": "markdown",
   "metadata": {},
   "source": [
    "## Gradient boosting"
   ]
  },
  {
   "cell_type": "code",
   "execution_count": 30,
   "metadata": {},
   "outputs": [
    {
     "data": {
      "text/html": [
       "<div>\n",
       "<style scoped>\n",
       "    .dataframe tbody tr th:only-of-type {\n",
       "        vertical-align: middle;\n",
       "    }\n",
       "\n",
       "    .dataframe tbody tr th {\n",
       "        vertical-align: top;\n",
       "    }\n",
       "\n",
       "    .dataframe thead th {\n",
       "        text-align: right;\n",
       "    }\n",
       "</style>\n",
       "<table border=\"1\" class=\"dataframe\">\n",
       "  <thead>\n",
       "    <tr style=\"text-align: right;\">\n",
       "      <th></th>\n",
       "      <th>energy_fat</th>\n",
       "      <th>energy_saturate</th>\n",
       "      <th>energy_sugar</th>\n",
       "      <th>energy_protein</th>\n",
       "      <th>energy_carb</th>\n",
       "      <th>energy_fibre</th>\n",
       "      <th>energy_alcohol</th>\n",
       "      <th>energy_tot</th>\n",
       "    </tr>\n",
       "  </thead>\n",
       "  <tbody>\n",
       "    <tr>\n",
       "      <th>Linear Regression R^2</th>\n",
       "      <td>0.236360</td>\n",
       "      <td>0.249760</td>\n",
       "      <td>0.403996</td>\n",
       "      <td>0.605033</td>\n",
       "      <td>0.657281</td>\n",
       "      <td>0.593942</td>\n",
       "      <td>0.307523</td>\n",
       "      <td>0.675526</td>\n",
       "    </tr>\n",
       "    <tr>\n",
       "      <th>Gradient Boosting R^2</th>\n",
       "      <td>0.321321</td>\n",
       "      <td>0.302523</td>\n",
       "      <td>0.416680</td>\n",
       "      <td>0.662945</td>\n",
       "      <td>0.741789</td>\n",
       "      <td>0.701922</td>\n",
       "      <td>0.336987</td>\n",
       "      <td>0.617522</td>\n",
       "    </tr>\n",
       "  </tbody>\n",
       "</table>\n",
       "</div>"
      ],
      "text/plain": [
       "                       energy_fat  energy_saturate  energy_sugar  \\\n",
       "Linear Regression R^2    0.236360         0.249760      0.403996   \n",
       "Gradient Boosting R^2    0.321321         0.302523      0.416680   \n",
       "\n",
       "                       energy_protein  energy_carb  energy_fibre  \\\n",
       "Linear Regression R^2        0.605033     0.657281      0.593942   \n",
       "Gradient Boosting R^2        0.662945     0.741789      0.701922   \n",
       "\n",
       "                       energy_alcohol  energy_tot  \n",
       "Linear Regression R^2        0.307523    0.675526  \n",
       "Gradient Boosting R^2        0.336987    0.617522  "
      ]
     },
     "execution_count": 30,
     "metadata": {},
     "output_type": "execute_result"
    }
   ],
   "source": [
    "GradientB_models={}\n",
    "GradientB_scores=[]\n",
    "\n",
    "for i,column in enumerate(y_data.columns.values):\n",
    "    Model,R_2=Train_model(GradientBoostingRegressor(random_state=0),x_data,y_data[column])\n",
    "    GradientB_models[column]=Model\n",
    "    GradientB_scores.append(R_2)\n",
    "    \n",
    "df_Scores.loc['Gradient Boosting R^2']=GradientB_scores\n",
    "df_Scores"
   ]
  },
  {
   "cell_type": "markdown",
   "metadata": {},
   "source": [
    "### Searching for optimal Gradient boosting parameters"
   ]
  },
  {
   "cell_type": "code",
   "execution_count": 31,
   "metadata": {},
   "outputs": [
    {
     "name": "stderr",
     "output_type": "stream",
     "text": [
      "8it [06:10, 45.50s/it]\n"
     ]
    },
    {
     "data": {
      "text/html": [
       "<div>\n",
       "<style scoped>\n",
       "    .dataframe tbody tr th:only-of-type {\n",
       "        vertical-align: middle;\n",
       "    }\n",
       "\n",
       "    .dataframe tbody tr th {\n",
       "        vertical-align: top;\n",
       "    }\n",
       "\n",
       "    .dataframe thead th {\n",
       "        text-align: right;\n",
       "    }\n",
       "</style>\n",
       "<table border=\"1\" class=\"dataframe\">\n",
       "  <thead>\n",
       "    <tr style=\"text-align: right;\">\n",
       "      <th></th>\n",
       "      <th>energy_fat</th>\n",
       "      <th>energy_saturate</th>\n",
       "      <th>energy_sugar</th>\n",
       "      <th>energy_protein</th>\n",
       "      <th>energy_carb</th>\n",
       "      <th>energy_fibre</th>\n",
       "      <th>energy_alcohol</th>\n",
       "      <th>energy_tot</th>\n",
       "    </tr>\n",
       "  </thead>\n",
       "  <tbody>\n",
       "    <tr>\n",
       "      <th>Linear Regression R^2</th>\n",
       "      <td>0.236360</td>\n",
       "      <td>0.249760</td>\n",
       "      <td>0.403996</td>\n",
       "      <td>0.605033</td>\n",
       "      <td>0.657281</td>\n",
       "      <td>0.593942</td>\n",
       "      <td>0.307523</td>\n",
       "      <td>0.675526</td>\n",
       "    </tr>\n",
       "    <tr>\n",
       "      <th>Gradient Boosting R^2</th>\n",
       "      <td>0.321321</td>\n",
       "      <td>0.302523</td>\n",
       "      <td>0.416680</td>\n",
       "      <td>0.662945</td>\n",
       "      <td>0.741789</td>\n",
       "      <td>0.701922</td>\n",
       "      <td>0.336987</td>\n",
       "      <td>0.617522</td>\n",
       "    </tr>\n",
       "    <tr>\n",
       "      <th>Gradient Boosting adjusted R^2</th>\n",
       "      <td>0.316831</td>\n",
       "      <td>0.399683</td>\n",
       "      <td>0.590850</td>\n",
       "      <td>0.631500</td>\n",
       "      <td>0.781374</td>\n",
       "      <td>0.537209</td>\n",
       "      <td>0.460622</td>\n",
       "      <td>0.679322</td>\n",
       "    </tr>\n",
       "  </tbody>\n",
       "</table>\n",
       "</div>"
      ],
      "text/plain": [
       "                                energy_fat  energy_saturate  energy_sugar  \\\n",
       "Linear Regression R^2             0.236360         0.249760      0.403996   \n",
       "Gradient Boosting R^2             0.321321         0.302523      0.416680   \n",
       "Gradient Boosting adjusted R^2    0.316831         0.399683      0.590850   \n",
       "\n",
       "                                energy_protein  energy_carb  energy_fibre  \\\n",
       "Linear Regression R^2                 0.605033     0.657281      0.593942   \n",
       "Gradient Boosting R^2                 0.662945     0.741789      0.701922   \n",
       "Gradient Boosting adjusted R^2        0.631500     0.781374      0.537209   \n",
       "\n",
       "                                energy_alcohol  energy_tot  \n",
       "Linear Regression R^2                 0.307523    0.675526  \n",
       "Gradient Boosting R^2                 0.336987    0.617522  \n",
       "Gradient Boosting adjusted R^2        0.460622    0.679322  "
      ]
     },
     "execution_count": 31,
     "metadata": {},
     "output_type": "execute_result"
    }
   ],
   "source": [
    "from sklearn.model_selection import GridSearchCV\n",
    "from tqdm import tqdm\n",
    "\n",
    "parameters={'n_estimators':range(50,350,50),\n",
    "           'learning_rate':[0.01, 0.025, 0.05, 0.075, 0.1, 0.15, 0.2]}\n",
    "\n",
    "GradientB_adjusted_models={}\n",
    "GradientB_scores=[]\n",
    "\n",
    "for i,column in tqdm(enumerate(y_data.columns.values)):\n",
    "    G_search=GridSearchCV(estimator=GradientBoostingRegressor(random_state=0),\n",
    "                     param_grid=parameters, scoring='r2',iid=False,cv=5)\n",
    "    G_search.fit(X_train,y_train[column])\n",
    "    Model=G_search.best_estimator_\n",
    "    R_2=r2_score(y_test[column],Model.predict(X_test))\n",
    "    GradientB_adjusted_models[column]=Model\n",
    "    GradientB_scores.append(R_2)\n",
    "    \n",
    "df_Scores.loc['Gradient Boosting adjusted R^2']=GradientB_scores\n",
    "df_Scores"
   ]
  },
  {
   "cell_type": "markdown",
   "metadata": {},
   "source": [
    "## Unifying the best models"
   ]
  },
  {
   "cell_type": "code",
   "execution_count": 34,
   "metadata": {},
   "outputs": [
    {
     "name": "stderr",
     "output_type": "stream",
     "text": [
      "8it [00:00, 552.42it/s]\n"
     ]
    },
    {
     "data": {
      "text/plain": [
       "energy_fat         0.321321\n",
       "energy_saturate    0.399683\n",
       "energy_sugar       0.590850\n",
       "energy_protein     0.662945\n",
       "energy_carb        0.781374\n",
       "energy_fibre       0.701922\n",
       "energy_alcohol     0.460622\n",
       "energy_tot         0.679322\n",
       "Name: Optimal model R^2, dtype: float64"
      ]
     },
     "execution_count": 34,
     "metadata": {},
     "output_type": "execute_result"
    }
   ],
   "source": [
    "Architectures=[Linear_models,GradientB_models,GradientB_adjusted_models]\n",
    "Optimal_Models={}\n",
    "Optimal_Scores=[]\n",
    "\n",
    "for i,column in tqdm(enumerate(y_data.columns.values)):\n",
    "    #Choose architecture with the highest R^2 for a given label\n",
    "    #[-1] means that if two models have the same score, we would chose adjusted one\n",
    "    Number_of_optimal_architecture=np.where(\n",
    "        df_Scores[column]==df_Scores[column].max())[0][-1]\n",
    "    #Assign optimal model for given label with this model\n",
    "    Optimal_Models[column]=Architectures[Number_of_optimal_architecture][column]\n",
    "    Optimal_Scores.append(df_Scores[column][Number_of_optimal_architecture])\n",
    "\n",
    "df_Scores.loc['Optimal model R^2']=Optimal_Scores\n",
    "df_Scores.loc['Optimal model R^2']"
   ]
  },
  {
   "cell_type": "markdown",
   "metadata": {},
   "source": [
    "# Neural network"
   ]
  },
  {
   "cell_type": "code",
   "execution_count": 42,
   "metadata": {},
   "outputs": [],
   "source": [
    "import tensorflow as tf\n",
    "from keras.models import Sequential\n",
    "from keras.layers import Dense,Input\n",
    "from tensorflow.keras import layers\n",
    "from tensorflow.keras.losses import KLDivergence\n",
    "\n",
    "import matplotlib.pyplot as plt\n",
    "def Training_curve(history,start_epoch=0):\n",
    "    loss=history.history['loss'][start_epoch:]\n",
    "    val_loss=history.history['val_loss'][start_epoch:]\n",
    "    epochs=np.arange(len(loss))+start_epoch\n",
    "    plt.plot(epochs,loss,label='train loss')\n",
    "    plt.plot(epochs,val_loss,label='test loss')\n",
    "    plt.title('Training curve')\n",
    "    plt.ylabel('loss')\n",
    "    plt.xlabel('epoch')"
   ]
  },
  {
   "cell_type": "code",
   "execution_count": 48,
   "metadata": {},
   "outputs": [],
   "source": [
    "target_cols = ['energy_fat', 'energy_saturate', 'energy_sugar', 'energy_protein',\n",
    "                 'energy_carb', 'energy_fibre', 'energy_alcohol', 'energy_tot']\n",
    "\n",
    "x_data = df_ward_atlas[all_features]\n",
    "y_data = df_ward_atlas[target_cols]\n",
    "X_train, X_test, y_train, y_test = train_test_split(x_data, y_data, test_size = 0.2)"
   ]
  },
  {
   "cell_type": "code",
   "execution_count": 49,
   "metadata": {},
   "outputs": [],
   "source": [
    "model = Sequential()\n",
    "model.add(Input(shape=(X_train.shape[1],)))\n",
    "model.add(Dense(X_train.shape[1], kernel_initializer='normal'\n",
    "                , activation='relu'))\n",
    "model.add(Dense(y_train.shape[1], ))\n",
    "model.compile(optimizer='sgd', \n",
    "              loss='mean_squared_error')"
   ]
  },
  {
   "cell_type": "code",
   "execution_count": 50,
   "metadata": {},
   "outputs": [],
   "source": [
    "history = model.fit(x_data, y_data, epochs=200,\n",
    "          validation_split=0.2, verbose=0)"
   ]
  },
  {
   "cell_type": "code",
   "execution_count": 51,
   "metadata": {},
   "outputs": [
    {
     "data": {
      "image/png": "[encoded data removed]",
      "text/plain": [
       "<Figure size 432x288 with 1 Axes>"
      ]
     },
     "metadata": {
      "needs_background": "light"
     },
     "output_type": "display_data"
    }
   ],
   "source": [
    "Training_curve(history)"
   ]
  },
  {
   "cell_type": "code",
   "execution_count": 53,
   "metadata": {},
   "outputs": [
    {
     "name": "stdout",
     "output_type": "stream",
     "text": [
      "Last validation MAE 14.6916\n"
     ]
    }
   ],
   "source": [
    "print('Last validation MAE {:.4f}'.format(\n",
    "    history.history['val_loss'][-1]))"
   ]
  },
  {
   "cell_type": "markdown",
   "metadata": {},
   "source": [
    "## predicting distribution"
   ]
  },
  {
   "cell_type": "code",
   "execution_count": 35,
   "metadata": {},
   "outputs": [],
   "source": [
    "target_cols = ['f_energy_fat', 'f_energy_protein', 'f_energy_carb', 'f_energy_fibre', 'f_energy_alcohol']\n",
    "\n",
    "x_data = df_ward_atlas[all_features]\n",
    "y_data = df_ward_atlas[target_cols]\n",
    "X_train, X_test, y_train, y_test = train_test_split(x_data, y_data, test_size = 0.2)"
   ]
  },
  {
   "cell_type": "code",
   "execution_count": 39,
   "metadata": {},
   "outputs": [],
   "source": [
    "model = Sequential()\n",
    "model.add(Input(shape=(X_train.shape[1],)))\n",
    "model.add(Dense(y_train.shape[1], activation='softmax'))\n",
    "model.compile(optimizer='sgd', \n",
    "              loss=KLDivergence(), \n",
    "              metrics=['mean_absolute_error'])"
   ]
  },
  {
   "cell_type": "code",
   "execution_count": 40,
   "metadata": {},
   "outputs": [],
   "source": [
    "history = model.fit(x_data, y_data, epochs=200,\n",
    "          validation_split=0.2, verbose=0)"
   ]
  },
  {
   "cell_type": "code",
   "execution_count": 43,
   "metadata": {},
   "outputs": [
    {
     "data": {
      "image/png": "[encoded data removed]",
      "text/plain": [
       "<Figure size 432x288 with 1 Axes>"
      ]
     },
     "metadata": {
      "needs_background": "light"
     },
     "output_type": "display_data"
    }
   ],
   "source": [
    "Training_curve(history)"
   ]
  },
  {
   "cell_type": "code",
   "execution_count": 47,
   "metadata": {},
   "outputs": [
    {
     "name": "stdout",
     "output_type": "stream",
     "text": [
      "Last validation MAE 0.0172\n"
     ]
    }
   ],
   "source": [
    "print('Last validation MAE {:.4f}'.format(\n",
    "    history.history['val_mean_absolute_error'][-1]))"
   ]
  },
  {
   "cell_type": "code",
   "execution_count": null,
   "metadata": {},
   "outputs": [],
   "source": []
  }
 ],
 "metadata": {
  "kernelspec": {
   "display_name": "Python 3",
   "language": "python",
   "name": "python3"
  },
  "language_info": {
   "codemirror_mode": {
    "name": "ipython",
    "version": 3
   },
   "file_extension": ".py",
   "mimetype": "text/x-python",
   "name": "python",
   "nbconvert_exporter": "python",
   "pygments_lexer": "ipython3",
   "version": "3.7.3"
  }
 },
 "nbformat": 4,
 "nbformat_minor": 2
}
